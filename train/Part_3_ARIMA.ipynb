{
 "cells": [
  {
   "cell_type": "code",
   "execution_count": 1,
   "id": "f515aea2-ac4b-4e99-b9bd-259ad04fa8ad",
   "metadata": {},
   "outputs": [],
   "source": [
    "import itertools\n",
    "import matplotlib.pyplot as plt\n",
    "import numpy as np\n",
    "import pandas as pd\n",
    "import pickle\n",
    "import seaborn as sns\n",
    "import statsmodels.api as sm\n",
    "\n",
    "from sklearn import metrics\n",
    "from statsmodels.graphics.tsaplots import plot_acf, plot_pacf\n",
    "from statsmodels.tsa.arima.model import ARIMA\n",
    "from statsmodels.tsa.stattools import adfuller, kpss"
   ]
  },
  {
   "cell_type": "code",
   "execution_count": 2,
   "id": "d749d23a-a04c-48bf-bce4-d94f72afb74c",
   "metadata": {},
   "outputs": [],
   "source": [
    "# Load your power consumption data into a Pandas DataFrame\n",
    "df = pd.read_csv('energy_weather_raw_data.csv', parse_dates=True)\n",
    "df.date = pd.to_datetime(df.date, format='%Y-%m-%d %H:%M:%S')"
   ]
  },
  {
   "cell_type": "code",
   "execution_count": 3,
   "id": "84516082-6b96-4f9a-a1fd-00a1e7016567",
   "metadata": {},
   "outputs": [],
   "source": [
    "# Load mapping between sky status categorical and numerical values\n",
    "with open('category_mapping.pkl', 'rb') as f:\n",
    "    category_mapping = pickle.load(f)"
   ]
  },
  {
   "cell_type": "code",
   "execution_count": 4,
   "id": "f89497b3-9b52-4011-a425-ff222aa9f7ec",
   "metadata": {},
   "outputs": [],
   "source": [
    "df = df.drop(columns=['description', 'temp', 'temp_t+1', 'feels_like_t+1'])"
   ]
  },
  {
   "cell_type": "code",
   "execution_count": 5,
   "id": "d508b010-bbc0-4445-914a-7fa67c6be416",
   "metadata": {},
   "outputs": [],
   "source": [
    "cat_cols = ['main']\n",
    "\n",
    "for c in cat_cols:\n",
    "    df[c] = pd.Categorical(df[c])\n",
    "    df[c] = df[c].apply(lambda x: category_mapping[x])"
   ]
  },
  {
   "cell_type": "markdown",
   "id": "30c7769b-76e8-4754-ba98-96494beb8823",
   "metadata": {},
   "source": [
    "## ARIMA model"
   ]
  },
  {
   "cell_type": "code",
   "execution_count": 6,
   "id": "68e2125a-5332-49f1-9da1-3289bc151d00",
   "metadata": {},
   "outputs": [
    {
     "name": "stdout",
     "output_type": "stream",
     "text": [
      "Order differencing No. 0:\n"
     ]
    },
    {
     "name": "stderr",
     "output_type": "stream",
     "text": [
      "/tmp/ipykernel_125679/3165571508.py:10: InterpolationWarning: The test statistic is outside of the range of p-values available in the\n",
      "look-up table. The actual p-value is smaller than the p-value returned.\n",
      "\n",
      "  kpss_result = kpss(ts)\n"
     ]
    },
    {
     "name": "stdout",
     "output_type": "stream",
     "text": [
      "\n",
      "ADF Statistic: -31.997888622402257\n",
      "p-value: 0.0\n",
      "Critical Values: {'1%': -3.4303608058769823, '5%': -2.861544776072266, '10%': -2.5667725421284837}\n",
      "\n",
      "KPSS Statistic: 14.691413820149359\n",
      "p-value: 0.01\n",
      "Critical Values: {'10%': 0.347, '5%': 0.463, '2.5%': 0.574, '1%': 0.739}\n",
      "\n",
      "\n",
      "Order differencing No. 1:\n",
      "\n",
      "ADF Statistic: -121.70133873277025\n",
      "p-value: 0.0\n",
      "Critical Values: {'1%': -3.4303608058948383, '5%': -2.8615447760801582, '10%': -2.5667725421326844}\n",
      "\n",
      "KPSS Statistic: 0.0012746362175325599\n",
      "p-value: 0.1\n",
      "Critical Values: {'10%': 0.347, '5%': 0.463, '2.5%': 0.574, '1%': 0.739}\n",
      "TS is stationary\n"
     ]
    },
    {
     "name": "stderr",
     "output_type": "stream",
     "text": [
      "/tmp/ipykernel_125679/3165571508.py:10: InterpolationWarning: The test statistic is outside of the range of p-values available in the\n",
      "look-up table. The actual p-value is greater than the p-value returned.\n",
      "\n",
      "  kpss_result = kpss(ts)\n"
     ]
    }
   ],
   "source": [
    "ts = df['active_power'].dropna()\n",
    "\n",
    "d = 0\n",
    "d_thres = d\n",
    "\n",
    "while True:\n",
    "    print(f'Order differencing No. {d}:')\n",
    "\n",
    "    adf_result = adfuller(ts)\n",
    "    kpss_result = kpss(ts)\n",
    "\n",
    "    print()\n",
    "    print('ADF Statistic:', adf_result[0])\n",
    "    print('p-value:', adf_result[1])\n",
    "    print('Critical Values:', adf_result[4])\n",
    "    print()\n",
    "    print('KPSS Statistic:', kpss_result[0])\n",
    "    print('p-value:', kpss_result[1])\n",
    "    print('Critical Values:', kpss_result[3])\n",
    "\n",
    "    if adf_result[1] < 0.05 and kpss_result[1] >= 0.05:\n",
    "        print('TS is stationary')\n",
    "        break\n",
    "    elif d >= 2:\n",
    "        print('TS is NOT stationary')\n",
    "    else:\n",
    "        d += 1\n",
    "        d_thres = d\n",
    "        ts = df['active_power'].diff().dropna()\n",
    "        print()\n",
    "        print()"
   ]
  },
  {
   "cell_type": "code",
   "execution_count": 7,
   "id": "2ed31c60-eb2b-47a6-a95b-788ca37ca9c6",
   "metadata": {},
   "outputs": [
    {
     "name": "stdout",
     "output_type": "stream",
     "text": [
      "Most significant lag: 1\n"
     ]
    }
   ],
   "source": [
    "ts = df['active_power'].diff().dropna()\n",
    "\n",
    "d = 1\n",
    "significant_lags = {}\n",
    "\n",
    "while True:\n",
    "    pac = pd.Series(sm.tsa.pacf(ts))\n",
    "\n",
    "    significant_lags[pac[pac.idxmax()]] = pac.idxmax()\n",
    "\n",
    "    if d >= 2:\n",
    "        break\n",
    "    else:\n",
    "        d += 1\n",
    "        ts = df['active_power'].diff().dropna()\n",
    "\n",
    "max_key = max(significant_lags.keys())\n",
    "p_thres = 1 + min([v for k, v in significant_lags.items() if k == max_key])\n",
    "\n",
    "print('Most significant lag:', p_thres)"
   ]
  },
  {
   "cell_type": "code",
   "execution_count": 8,
   "id": "5851d3c1-5d39-444b-a281-25919eb39d2d",
   "metadata": {},
   "outputs": [],
   "source": [
    "ts = df['active_power'].diff().dropna()\n",
    "q_thres = pd.Series(np.abs(sm.tsa.acf(ts))).gt(0.05).sum()"
   ]
  },
  {
   "cell_type": "markdown",
   "id": "6a7ee572-1c21-4b2c-9fd4-dc2c95badbde",
   "metadata": {},
   "source": [
    "## Model train"
   ]
  },
  {
   "cell_type": "code",
   "execution_count": 9,
   "id": "9ff0ef68-fac5-4825-b137-f3eb138f41c0",
   "metadata": {},
   "outputs": [],
   "source": [
    "size = 517117 # Precisely 1 year of training data\n",
    "train, test = df.iloc[:size], df.iloc[size:]\n",
    "\n",
    "# Ensure the index is a datetime index\n",
    "train = train.set_index('date')\n",
    "train.index = pd.DatetimeIndex(train.index).to_period('min')\n",
    "\n",
    "# Ensure the index is a datetime index\n",
    "test = test.set_index('date')\n",
    "test.index = pd.DatetimeIndex(test.index).to_period('min')"
   ]
  },
  {
   "cell_type": "code",
   "execution_count": 10,
   "id": "c26383b8-70de-49cf-9124-a6515961d62a",
   "metadata": {},
   "outputs": [
    {
     "name": "stdout",
     "output_type": "stream",
     "text": [
      "Total combinations: 8\n",
      "Trying order combination 1 out of 8 : (0, 1, 0)\n",
      "Trying order combination 2 out of 8 : (0, 1, 1)\n",
      "Trying order combination 3 out of 8 : (0, 1, 2)\n",
      "Trying order combination 4 out of 8 : (0, 1, 3)\n",
      "Trying order combination 5 out of 8 : (1, 1, 0)\n",
      "Trying order combination 6 out of 8 : (1, 1, 1)\n",
      "Trying order combination 7 out of 8 : (1, 1, 2)\n"
     ]
    },
    {
     "name": "stderr",
     "output_type": "stream",
     "text": [
      "/home/bishop/miniconda3/envs/ve/lib/python3.12/site-packages/statsmodels/base/model.py:607: ConvergenceWarning: Maximum Likelihood optimization failed to converge. Check mle_retvals\n",
      "  warnings.warn(\"Maximum Likelihood optimization failed to \"\n"
     ]
    },
    {
     "name": "stdout",
     "output_type": "stream",
     "text": [
      "Trying order combination 8 out of 8 : (1, 1, 3)\n"
     ]
    },
    {
     "name": "stderr",
     "output_type": "stream",
     "text": [
      "/home/bishop/miniconda3/envs/ve/lib/python3.12/site-packages/statsmodels/base/model.py:607: ConvergenceWarning: Maximum Likelihood optimization failed to converge. Check mle_retvals\n",
      "  warnings.warn(\"Maximum Likelihood optimization failed to \"\n"
     ]
    },
    {
     "data": {
      "text/html": [
       "<div>\n",
       "<style scoped>\n",
       "    .dataframe tbody tr th:only-of-type {\n",
       "        vertical-align: middle;\n",
       "    }\n",
       "\n",
       "    .dataframe tbody tr th {\n",
       "        vertical-align: top;\n",
       "    }\n",
       "\n",
       "    .dataframe thead th {\n",
       "        text-align: right;\n",
       "    }\n",
       "</style>\n",
       "<table border=\"1\" class=\"dataframe\">\n",
       "  <thead>\n",
       "    <tr style=\"text-align: right;\">\n",
       "      <th></th>\n",
       "      <th>Order</th>\n",
       "      <th>R^2</th>\n",
       "      <th>MSE</th>\n",
       "      <th>RMSE</th>\n",
       "      <th>MAE</th>\n",
       "      <th>MAPE</th>\n",
       "    </tr>\n",
       "  </thead>\n",
       "  <tbody>\n",
       "    <tr>\n",
       "      <th>0</th>\n",
       "      <td>(0, 1, 0)</td>\n",
       "      <td>0.995435</td>\n",
       "      <td>142.779151</td>\n",
       "      <td>11.949023</td>\n",
       "      <td>8.899717</td>\n",
       "      <td>0.098228</td>\n",
       "    </tr>\n",
       "    <tr>\n",
       "      <th>1</th>\n",
       "      <td>(0, 1, 1)</td>\n",
       "      <td>0.995572</td>\n",
       "      <td>138.470383</td>\n",
       "      <td>11.767344</td>\n",
       "      <td>8.698710</td>\n",
       "      <td>0.096363</td>\n",
       "    </tr>\n",
       "    <tr>\n",
       "      <th>2</th>\n",
       "      <td>(0, 1, 2)</td>\n",
       "      <td>0.995565</td>\n",
       "      <td>138.713893</td>\n",
       "      <td>11.777686</td>\n",
       "      <td>8.713151</td>\n",
       "      <td>0.096484</td>\n",
       "    </tr>\n",
       "    <tr>\n",
       "      <th>3</th>\n",
       "      <td>(0, 1, 3)</td>\n",
       "      <td>0.995587</td>\n",
       "      <td>138.026421</td>\n",
       "      <td>11.748465</td>\n",
       "      <td>8.679565</td>\n",
       "      <td>0.096178</td>\n",
       "    </tr>\n",
       "    <tr>\n",
       "      <th>4</th>\n",
       "      <td>(1, 1, 0)</td>\n",
       "      <td>0.995486</td>\n",
       "      <td>141.161904</td>\n",
       "      <td>11.881158</td>\n",
       "      <td>8.827074</td>\n",
       "      <td>0.097529</td>\n",
       "    </tr>\n",
       "    <tr>\n",
       "      <th>5</th>\n",
       "      <td>(1, 1, 1)</td>\n",
       "      <td>0.995727</td>\n",
       "      <td>133.636261</td>\n",
       "      <td>11.560115</td>\n",
       "      <td>8.460178</td>\n",
       "      <td>0.094272</td>\n",
       "    </tr>\n",
       "    <tr>\n",
       "      <th>6</th>\n",
       "      <td>(1, 1, 2)</td>\n",
       "      <td>0.997021</td>\n",
       "      <td>93.156416</td>\n",
       "      <td>9.651757</td>\n",
       "      <td>6.348290</td>\n",
       "      <td>0.073753</td>\n",
       "    </tr>\n",
       "    <tr>\n",
       "      <th>7</th>\n",
       "      <td>(1, 1, 3)</td>\n",
       "      <td>0.995839</td>\n",
       "      <td>130.145760</td>\n",
       "      <td>11.408144</td>\n",
       "      <td>8.287738</td>\n",
       "      <td>0.092638</td>\n",
       "    </tr>\n",
       "  </tbody>\n",
       "</table>\n",
       "</div>"
      ],
      "text/plain": [
       "       Order       R^2         MSE       RMSE       MAE      MAPE\n",
       "0  (0, 1, 0)  0.995435  142.779151  11.949023  8.899717  0.098228\n",
       "1  (0, 1, 1)  0.995572  138.470383  11.767344  8.698710  0.096363\n",
       "2  (0, 1, 2)  0.995565  138.713893  11.777686  8.713151  0.096484\n",
       "3  (0, 1, 3)  0.995587  138.026421  11.748465  8.679565  0.096178\n",
       "4  (1, 1, 0)  0.995486  141.161904  11.881158  8.827074  0.097529\n",
       "5  (1, 1, 1)  0.995727  133.636261  11.560115  8.460178  0.094272\n",
       "6  (1, 1, 2)  0.997021   93.156416   9.651757  6.348290  0.073753\n",
       "7  (1, 1, 3)  0.995839  130.145760  11.408144  8.287738  0.092638"
      ]
     },
     "metadata": {},
     "output_type": "display_data"
    },
    {
     "name": "stdout",
     "output_type": "stream",
     "text": [
      "Best parameters with lowest RMSE:\n",
      "Order    (1, 1, 2)\n",
      "R^2       0.997021\n",
      "MSE      93.156416\n",
      "RMSE      9.651757\n",
      "MAE        6.34829\n",
      "MAPE      0.073753\n",
      "Name: 6, dtype: object\n",
      "Lowest RMSE value: 9.65175712316294\n"
     ]
    }
   ],
   "source": [
    "# Grid Search and Cross-Validation\n",
    "# (Implement a loop to test different p, d, q combinations and evaluate performance)\n",
    "\n",
    "# Select the best model based on AIC, BIC, and cross-validation results\n",
    "p = range(0, p_thres+1)  # p ranges from 0 to 4 (not including 5)\n",
    "d = d_thres              # d is fixed at 1\n",
    "q = range(0, q_thres+1)  # q ranges from 0 to 1 (not including 2)\n",
    "\n",
    "# Generate all combinations of p, d, q\n",
    "pdq_combination = list(itertools.product(p, [d], q))\n",
    "\n",
    "# Print the length of pdq_combination\n",
    "print(\"Total combinations:\", len(pdq_combination))\n",
    "\n",
    "# Initialize lists to store results\n",
    "r2 = []\n",
    "mse = []\n",
    "rmse = []\n",
    "mae = []\n",
    "mape = []\n",
    "order1 = []\n",
    "\n",
    "# Loop through each combination of p, d, q\n",
    "for i, pdq in enumerate(pdq_combination):\n",
    "    print('Trying order combination', i+1, 'out of', len(pdq_combination), ':', pdq)\n",
    "    \n",
    "    try:\n",
    "        # Fit the ARIMA model on the training data\n",
    "        model = ARIMA(endog=train.loc[:, train.columns[0]], exog=train.loc[:, train.columns[1:]], order=pdq,).fit()\n",
    "    \n",
    "        # Predict the values for the test set\n",
    "        pred = model.predict(start=train.shape[0], end=(train.shape[0] + test.shape[0] - 1), exog=test.loc[:, test.columns[1:]])\n",
    "    \n",
    "        # Calculate error metrics\n",
    "        score_r2 = metrics.r2_score(test.loc[:, test.columns[0]], pred)\n",
    "        error_mse = metrics.mean_squared_error(test.loc[:, test.columns[0]], pred)\n",
    "        error_rmse = metrics.root_mean_squared_error(test.loc[:, test.columns[0]], pred)\n",
    "        error_mae = metrics.mean_absolute_error(test.loc[:, test.columns[0]], pred)\n",
    "        error_mape = metrics.mean_absolute_percentage_error(test.loc[:, test.columns[0]], pred)\n",
    "    \n",
    "        # Append results to lists\n",
    "        order1.append(pdq)\n",
    "        r2.append(score_r2)\n",
    "        mse.append(error_mse)\n",
    "        rmse.append(error_rmse)\n",
    "        mae.append(error_mae)\n",
    "        mape.append(error_mape)\n",
    "    except Exception as e:\n",
    "        print(f\"An error occurred for order {pdq}: {e}\")\n",
    "        continue\n",
    "\n",
    "# Create a DataFrame to store the results\n",
    "results = pd.DataFrame({\n",
    "    'Order': order1,\n",
    "    'R^2': r2,\n",
    "    'MSE': mse,\n",
    "    'RMSE': rmse,\n",
    "    'MAE': mae,\n",
    "    'MAPE': mape\n",
    "})\n",
    "\n",
    "display(results)\n",
    "\n",
    "# Find the row with the minimum RMSE\n",
    "min_rmse_row = results.loc[results['RMSE'].idxmin()]\n",
    "lowest_rmse_value = results['RMSE'].min()\n",
    "\n",
    "print(\"Best parameters with lowest RMSE:\")\n",
    "print(min_rmse_row)\n",
    "print(\"Lowest RMSE value:\", lowest_rmse_value)"
   ]
  },
  {
   "cell_type": "code",
   "execution_count": 16,
   "id": "2d57c6f9-81b5-417f-8f08-9df26636936a",
   "metadata": {},
   "outputs": [
    {
     "name": "stdout",
     "output_type": "stream",
     "text": [
      "R^2: 0.9957270606813861\n",
      "MSE: 133.6362613870116\n",
      "RMSE: 11.560115111321842\n",
      "MAE: 8.460177648038512\n",
      "MAPE: 0.09427193744113954\n"
     ]
    },
    {
     "data": {
      "image/png": "[encoded data removed]",
      "text/plain": [
       "<Figure size 1800x600 with 1 Axes>"
      ]
     },
     "metadata": {},
     "output_type": "display_data"
    }
   ],
   "source": [
    "p = 1  # AR order\n",
    "d = 1  # Differencing order\n",
    "q = 1  # MA order\n",
    "\n",
    "try:\n",
    "    # Fit the ARIMA model on the training data\n",
    "    model = ARIMA(endog=train.loc[:, train.columns[0]], exog=train.loc[:, train.columns[1:]], order=(p, d, q),).fit()\n",
    "\n",
    "    # Predict the values for the test set\n",
    "    pred = model.predict(start=train.shape[0], end=(train.shape[0] + test.shape[0] - 1), exog=test.loc[:, test.columns[1:]])\n",
    "\n",
    "    # Calculate error metrics\n",
    "    score_r2 = metrics.r2_score(test.loc[:, test.columns[0]], pred)\n",
    "    error_mse = metrics.mean_squared_error(test.loc[:, test.columns[0]], pred)\n",
    "    error_rmse = metrics.root_mean_squared_error(test.loc[:, test.columns[0]], pred)\n",
    "    error_mae = metrics.mean_absolute_error(test.loc[:, test.columns[0]], pred)\n",
    "    error_mape = metrics.mean_absolute_percentage_error(test.loc[:, test.columns[0]], pred)\n",
    "\n",
    "    print('R^2:', score_r2)\n",
    "    print('MSE:', error_mse)\n",
    "    print('RMSE:', error_rmse)\n",
    "    print('MAE:', error_mae)\n",
    "    print('MAPE:', error_mape)\n",
    "\n",
    "    plt.rcParams.update({'figure.figsize':(15,5), 'figure.dpi':120})\n",
    "    plt.plot(list(range(test.shape[0])), test['active_power'], label='Measured')\n",
    "    plt.plot(list(range(test.shape[0])), pred, label='Predicted')\n",
    "    plt.legend()\n",
    "    plt.show()\n",
    "except Exception as e:\n",
    "    print(f\"An error occurred for order {pdq}: {e}\")"
   ]
  },
  {
   "cell_type": "code",
   "execution_count": 17,
   "id": "19c5c0f1-151d-41d6-b542-a8e98237abe4",
   "metadata": {},
   "outputs": [
    {
     "name": "stderr",
     "output_type": "stream",
     "text": [
      "/home/bishop/miniconda3/envs/ve/lib/python3.12/site-packages/statsmodels/base/model.py:607: ConvergenceWarning: Maximum Likelihood optimization failed to converge. Check mle_retvals\n",
      "  warnings.warn(\"Maximum Likelihood optimization failed to \"\n"
     ]
    }
   ],
   "source": [
    "df_temp = df.set_index('date')\n",
    "df_temp.index = pd.DatetimeIndex(df_temp.index).to_period('min')\n",
    "\n",
    "p = 1  # AR order\n",
    "d = 1  # Differencing order\n",
    "q = 1  # MA order\n",
    "\n",
    "# Create and fit the ARIMA model\n",
    "try:\n",
    "    # Fit the ARIMA model on the training data\n",
    "    model_final = ARIMA(endog=df_temp.loc[:, df_temp.columns[0]], exog=df_temp.loc[:, df_temp.columns[1:]], order=(p, d, q),).fit()\n",
    "except Exception as e:\n",
    "    print(f\"An error occurred for order {(p, d, q)}: {e}\")"
   ]
  },
  {
   "cell_type": "code",
   "execution_count": 6,
   "id": "e09c5bf0-b0b7-48c8-9b0f-23892926399b",
   "metadata": {},
   "outputs": [],
   "source": [
    "df_temp = df.set_index('date')\n",
    "df_temp.index = pd.DatetimeIndex(df_temp.index).to_period('min')\n",
    "\n",
    "p = 0  # AR order\n",
    "d = 1  # Differencing order\n",
    "q = 1  # MA order\n",
    "\n",
    "# Create and fit the ARIMA model\n",
    "try:\n",
    "    # Fit the ARIMA model on the training data\n",
    "    model_final = ARIMA(endog=df_temp.loc[:, df_temp.columns[0]], exog=df_temp.loc[:, df_temp.columns[1:]], order=(p, d, q),).fit()\n",
    "except Exception as e:\n",
    "    print(f\"An error occurred for order {(p, d, q)}: {e}\")"
   ]
  },
  {
   "cell_type": "code",
   "execution_count": 7,
   "id": "82ad4b83-9264-489f-b08a-f628fe82c069",
   "metadata": {},
   "outputs": [],
   "source": [
    "# Store model to a pickle file\n",
    "model_final.save('model_arima.pkl')"
   ]
  }
 ],
 "metadata": {
  "kernelspec": {
   "display_name": "Python 3 (ipykernel)",
   "language": "python",
   "name": "python3"
  },
  "language_info": {
   "codemirror_mode": {
    "name": "ipython",
    "version": 3
   },
   "file_extension": ".py",
   "mimetype": "text/x-python",
   "name": "python",
   "nbconvert_exporter": "python",
   "pygments_lexer": "ipython3",
   "version": "3.12.7"
  }
 },
 "nbformat": 4,
 "nbformat_minor": 5
}
